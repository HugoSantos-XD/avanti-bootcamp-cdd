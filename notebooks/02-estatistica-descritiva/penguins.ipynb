{
 "cells": [
  {
   "cell_type": "code",
   "execution_count": 2,
   "metadata": {},
   "outputs": [],
   "source": [
    "import pandas as pd \n",
    "import numpy as np \n",
    "import matplotlib.pyplot as plt \n",
    "import seaborn as sns \n",
    "from statsmodels.tsa.holtwinters import SimpleExpSmoothing\n",
    "from IPython.display import Markdown\n"
   ]
  },
  {
   "cell_type": "markdown",
   "metadata": {},
   "source": [
    "## Carregando o Conjunto de Dados "
   ]
  },
  {
   "cell_type": "code",
   "execution_count": 3,
   "metadata": {},
   "outputs": [
    {
     "data": {
      "text/markdown": [
       "## Pinguins dataset"
      ],
      "text/plain": [
       "<IPython.core.display.Markdown object>"
      ]
     },
     "metadata": {},
     "output_type": "display_data"
    },
    {
     "data": {
      "text/html": [
       "<div>\n",
       "<style scoped>\n",
       "    .dataframe tbody tr th:only-of-type {\n",
       "        vertical-align: middle;\n",
       "    }\n",
       "\n",
       "    .dataframe tbody tr th {\n",
       "        vertical-align: top;\n",
       "    }\n",
       "\n",
       "    .dataframe thead th {\n",
       "        text-align: right;\n",
       "    }\n",
       "</style>\n",
       "<table border=\"1\" class=\"dataframe\">\n",
       "  <thead>\n",
       "    <tr style=\"text-align: right;\">\n",
       "      <th></th>\n",
       "      <th>species</th>\n",
       "      <th>island</th>\n",
       "      <th>bill_length_mm</th>\n",
       "      <th>bill_depth_mm</th>\n",
       "      <th>flipper_length_mm</th>\n",
       "      <th>body_mass_g</th>\n",
       "      <th>sex</th>\n",
       "    </tr>\n",
       "  </thead>\n",
       "  <tbody>\n",
       "    <tr>\n",
       "      <th>0</th>\n",
       "      <td>Adelie</td>\n",
       "      <td>Torgersen</td>\n",
       "      <td>39.1</td>\n",
       "      <td>18.7</td>\n",
       "      <td>181.0</td>\n",
       "      <td>3750.0</td>\n",
       "      <td>Male</td>\n",
       "    </tr>\n",
       "    <tr>\n",
       "      <th>1</th>\n",
       "      <td>Adelie</td>\n",
       "      <td>Torgersen</td>\n",
       "      <td>39.5</td>\n",
       "      <td>17.4</td>\n",
       "      <td>186.0</td>\n",
       "      <td>3800.0</td>\n",
       "      <td>Female</td>\n",
       "    </tr>\n",
       "    <tr>\n",
       "      <th>2</th>\n",
       "      <td>Adelie</td>\n",
       "      <td>Torgersen</td>\n",
       "      <td>40.3</td>\n",
       "      <td>18.0</td>\n",
       "      <td>195.0</td>\n",
       "      <td>3250.0</td>\n",
       "      <td>Female</td>\n",
       "    </tr>\n",
       "    <tr>\n",
       "      <th>3</th>\n",
       "      <td>Adelie</td>\n",
       "      <td>Torgersen</td>\n",
       "      <td>NaN</td>\n",
       "      <td>NaN</td>\n",
       "      <td>NaN</td>\n",
       "      <td>NaN</td>\n",
       "      <td>NaN</td>\n",
       "    </tr>\n",
       "    <tr>\n",
       "      <th>4</th>\n",
       "      <td>Adelie</td>\n",
       "      <td>Torgersen</td>\n",
       "      <td>36.7</td>\n",
       "      <td>19.3</td>\n",
       "      <td>193.0</td>\n",
       "      <td>3450.0</td>\n",
       "      <td>Female</td>\n",
       "    </tr>\n",
       "  </tbody>\n",
       "</table>\n",
       "</div>"
      ],
      "text/plain": [
       "  species     island  bill_length_mm  bill_depth_mm  flipper_length_mm  \\\n",
       "0  Adelie  Torgersen            39.1           18.7              181.0   \n",
       "1  Adelie  Torgersen            39.5           17.4              186.0   \n",
       "2  Adelie  Torgersen            40.3           18.0              195.0   \n",
       "3  Adelie  Torgersen             NaN            NaN                NaN   \n",
       "4  Adelie  Torgersen            36.7           19.3              193.0   \n",
       "\n",
       "   body_mass_g     sex  \n",
       "0       3750.0    Male  \n",
       "1       3800.0  Female  \n",
       "2       3250.0  Female  \n",
       "3          NaN     NaN  \n",
       "4       3450.0  Female  "
      ]
     },
     "metadata": {},
     "output_type": "display_data"
    },
    {
     "data": {
      "text/markdown": [
       "### Exploração dos dados"
      ],
      "text/plain": [
       "<IPython.core.display.Markdown object>"
      ]
     },
     "metadata": {},
     "output_type": "display_data"
    },
    {
     "name": "stdout",
     "output_type": "stream",
     "text": [
      "<class 'pandas.core.frame.DataFrame'>\n",
      "RangeIndex: 344 entries, 0 to 343\n",
      "Data columns (total 7 columns):\n",
      " #   Column             Non-Null Count  Dtype  \n",
      "---  ------             --------------  -----  \n",
      " 0   species            344 non-null    object \n",
      " 1   island             344 non-null    object \n",
      " 2   bill_length_mm     342 non-null    float64\n",
      " 3   bill_depth_mm      342 non-null    float64\n",
      " 4   flipper_length_mm  342 non-null    float64\n",
      " 5   body_mass_g        342 non-null    float64\n",
      " 6   sex                333 non-null    object \n",
      "dtypes: float64(4), object(3)\n",
      "memory usage: 18.9+ KB\n"
     ]
    },
    {
     "data": {
      "text/markdown": [
       "### Estatísticas descritivas"
      ],
      "text/plain": [
       "<IPython.core.display.Markdown object>"
      ]
     },
     "metadata": {},
     "output_type": "display_data"
    },
    {
     "data": {
      "text/html": [
       "<div>\n",
       "<style scoped>\n",
       "    .dataframe tbody tr th:only-of-type {\n",
       "        vertical-align: middle;\n",
       "    }\n",
       "\n",
       "    .dataframe tbody tr th {\n",
       "        vertical-align: top;\n",
       "    }\n",
       "\n",
       "    .dataframe thead th {\n",
       "        text-align: right;\n",
       "    }\n",
       "</style>\n",
       "<table border=\"1\" class=\"dataframe\">\n",
       "  <thead>\n",
       "    <tr style=\"text-align: right;\">\n",
       "      <th></th>\n",
       "      <th>bill_length_mm</th>\n",
       "      <th>bill_depth_mm</th>\n",
       "      <th>flipper_length_mm</th>\n",
       "      <th>body_mass_g</th>\n",
       "    </tr>\n",
       "  </thead>\n",
       "  <tbody>\n",
       "    <tr>\n",
       "      <th>count</th>\n",
       "      <td>342.000000</td>\n",
       "      <td>342.000000</td>\n",
       "      <td>342.000000</td>\n",
       "      <td>342.000000</td>\n",
       "    </tr>\n",
       "    <tr>\n",
       "      <th>mean</th>\n",
       "      <td>43.921930</td>\n",
       "      <td>17.151170</td>\n",
       "      <td>200.915205</td>\n",
       "      <td>4201.754386</td>\n",
       "    </tr>\n",
       "    <tr>\n",
       "      <th>std</th>\n",
       "      <td>5.459584</td>\n",
       "      <td>1.974793</td>\n",
       "      <td>14.061714</td>\n",
       "      <td>801.954536</td>\n",
       "    </tr>\n",
       "    <tr>\n",
       "      <th>min</th>\n",
       "      <td>32.100000</td>\n",
       "      <td>13.100000</td>\n",
       "      <td>172.000000</td>\n",
       "      <td>2700.000000</td>\n",
       "    </tr>\n",
       "    <tr>\n",
       "      <th>25%</th>\n",
       "      <td>39.225000</td>\n",
       "      <td>15.600000</td>\n",
       "      <td>190.000000</td>\n",
       "      <td>3550.000000</td>\n",
       "    </tr>\n",
       "    <tr>\n",
       "      <th>50%</th>\n",
       "      <td>44.450000</td>\n",
       "      <td>17.300000</td>\n",
       "      <td>197.000000</td>\n",
       "      <td>4050.000000</td>\n",
       "    </tr>\n",
       "    <tr>\n",
       "      <th>75%</th>\n",
       "      <td>48.500000</td>\n",
       "      <td>18.700000</td>\n",
       "      <td>213.000000</td>\n",
       "      <td>4750.000000</td>\n",
       "    </tr>\n",
       "    <tr>\n",
       "      <th>max</th>\n",
       "      <td>59.600000</td>\n",
       "      <td>21.500000</td>\n",
       "      <td>231.000000</td>\n",
       "      <td>6300.000000</td>\n",
       "    </tr>\n",
       "  </tbody>\n",
       "</table>\n",
       "</div>"
      ],
      "text/plain": [
       "       bill_length_mm  bill_depth_mm  flipper_length_mm  body_mass_g\n",
       "count      342.000000     342.000000         342.000000   342.000000\n",
       "mean        43.921930      17.151170         200.915205  4201.754386\n",
       "std          5.459584       1.974793          14.061714   801.954536\n",
       "min         32.100000      13.100000         172.000000  2700.000000\n",
       "25%         39.225000      15.600000         190.000000  3550.000000\n",
       "50%         44.450000      17.300000         197.000000  4050.000000\n",
       "75%         48.500000      18.700000         213.000000  4750.000000\n",
       "max         59.600000      21.500000         231.000000  6300.000000"
      ]
     },
     "metadata": {},
     "output_type": "display_data"
    }
   ],
   "source": [
    "\n",
    "# Pinguins\n",
    "df_penguins = sns.load_dataset('penguins')\n",
    "display(Markdown(\"## Pinguins dataset\"))\n",
    "display(df_penguins.head())\n",
    "\n",
    "display(Markdown(\"### Exploração dos dados\"))\n",
    "df_penguins.info()\n",
    "\n",
    "display(Markdown(\"### Estatísticas descritivas\"))\n",
    "display(df_penguins.describe())\n"
   ]
  },
  {
   "cell_type": "markdown",
   "metadata": {},
   "source": [
    "## Criando um Dicionário"
   ]
  },
  {
   "cell_type": "markdown",
   "metadata": {},
   "source": []
  },
  {
   "cell_type": "code",
   "execution_count": 4,
   "metadata": {},
   "outputs": [
    {
     "data": {
      "text/html": [
       "<div>\n",
       "<style scoped>\n",
       "    .dataframe tbody tr th:only-of-type {\n",
       "        vertical-align: middle;\n",
       "    }\n",
       "\n",
       "    .dataframe tbody tr th {\n",
       "        vertical-align: top;\n",
       "    }\n",
       "\n",
       "    .dataframe thead th {\n",
       "        text-align: right;\n",
       "    }\n",
       "</style>\n",
       "<table border=\"1\" class=\"dataframe\">\n",
       "  <thead>\n",
       "    <tr style=\"text-align: right;\">\n",
       "      <th></th>\n",
       "      <th>variavel</th>\n",
       "      <th>descricao</th>\n",
       "      <th>tipo</th>\n",
       "      <th>subtipo</th>\n",
       "    </tr>\n",
       "  </thead>\n",
       "  <tbody>\n",
       "    <tr>\n",
       "      <th>0</th>\n",
       "      <td>species</td>\n",
       "      <td>Espécie do pinguim ('Adelie', 'Chinstrap', 'Ge...</td>\n",
       "      <td>qualitativa</td>\n",
       "      <td>nominal</td>\n",
       "    </tr>\n",
       "    <tr>\n",
       "      <th>1</th>\n",
       "      <td>island</td>\n",
       "      <td>Ilha em que o pinguim foi encontrado ('Torgers...</td>\n",
       "      <td>qualitativa</td>\n",
       "      <td>nominal</td>\n",
       "    </tr>\n",
       "    <tr>\n",
       "      <th>2</th>\n",
       "      <td>bill_length_mm</td>\n",
       "      <td>Comprimento do bico do pinguim em milímetros</td>\n",
       "      <td>quantitativa</td>\n",
       "      <td>continua</td>\n",
       "    </tr>\n",
       "    <tr>\n",
       "      <th>3</th>\n",
       "      <td>bill_depth_mm</td>\n",
       "      <td>Profundidade do bico do pinguim em milímetros</td>\n",
       "      <td>quantitativa</td>\n",
       "      <td>continua</td>\n",
       "    </tr>\n",
       "    <tr>\n",
       "      <th>4</th>\n",
       "      <td>flipper_length_mm</td>\n",
       "      <td>Comprimento da nadadeira do pinguim em milímetros</td>\n",
       "      <td>quantitativa</td>\n",
       "      <td>continua</td>\n",
       "    </tr>\n",
       "    <tr>\n",
       "      <th>5</th>\n",
       "      <td>body_mass_g</td>\n",
       "      <td>Massa corporal do pinguim em gramas</td>\n",
       "      <td>quantitativa</td>\n",
       "      <td>continua</td>\n",
       "    </tr>\n",
       "    <tr>\n",
       "      <th>6</th>\n",
       "      <td>sex</td>\n",
       "      <td>Sexo do pinguim ('Male', 'Female')</td>\n",
       "      <td>qualitativa</td>\n",
       "      <td>nominal</td>\n",
       "    </tr>\n",
       "  </tbody>\n",
       "</table>\n",
       "</div>"
      ],
      "text/plain": [
       "            variavel                                          descricao  \\\n",
       "0            species  Espécie do pinguim ('Adelie', 'Chinstrap', 'Ge...   \n",
       "1             island  Ilha em que o pinguim foi encontrado ('Torgers...   \n",
       "2     bill_length_mm       Comprimento do bico do pinguim em milímetros   \n",
       "3      bill_depth_mm      Profundidade do bico do pinguim em milímetros   \n",
       "4  flipper_length_mm  Comprimento da nadadeira do pinguim em milímetros   \n",
       "5        body_mass_g                Massa corporal do pinguim em gramas   \n",
       "6                sex                 Sexo do pinguim ('Male', 'Female')   \n",
       "\n",
       "           tipo   subtipo  \n",
       "0   qualitativa   nominal  \n",
       "1   qualitativa   nominal  \n",
       "2  quantitativa  continua  \n",
       "3  quantitativa  continua  \n",
       "4  quantitativa  continua  \n",
       "5  quantitativa  continua  \n",
       "6   qualitativa   nominal  "
      ]
     },
     "execution_count": 4,
     "metadata": {},
     "output_type": "execute_result"
    }
   ],
   "source": [
    "df_dict = pd.DataFrame([\n",
    "    {\n",
    "        \"variavel\": \"species\",\n",
    "        \"descricao\": \"Espécie do pinguim ('Adelie', 'Chinstrap', 'Gentoo')\",\n",
    "        \"tipo\": \"qualitativa\",\n",
    "        \"subtipo\": \"nominal\",\n",
    "    },{\n",
    "        \"variavel\": \"island\",\n",
    "        \"descricao\": \"Ilha em que o pinguim foi encontrado ('Torgersen', 'Biscoe', 'Dream')\",\n",
    "        \"tipo\": \"qualitativa\",\n",
    "        \"subtipo\": \"nominal\"\n",
    "    },{\n",
    "        \"variavel\": \"bill_length_mm\",\n",
    "        \"descricao\": \"Comprimento do bico do pinguim em milímetros\",\n",
    "        \"tipo\": \"quantitativa\",\n",
    "        \"subtipo\": \"continua\"\n",
    "    },{\n",
    "        \"variavel\": \"bill_depth_mm\",\n",
    "        \"descricao\": \"Profundidade do bico do pinguim em milímetros\",\n",
    "        \"tipo\": \"quantitativa\",\n",
    "        \"subtipo\": \"continua\"\n",
    "    },{\n",
    "        \"variavel\": \"flipper_length_mm\",\n",
    "        \"descricao\": \"Comprimento da nadadeira do pinguim em milímetros\",\n",
    "        \"tipo\": \"quantitativa\",\n",
    "        \"subtipo\": \"continua\"\n",
    "    },{\n",
    "        \"variavel\": \"body_mass_g\",\n",
    "        \"descricao\": \"Massa corporal do pinguim em gramas\",\n",
    "        \"tipo\": \"quantitativa\",\n",
    "        \"subtipo\": \"continua\"\n",
    "    },{\n",
    "        \"variavel\": \"sex\",\n",
    "        \"descricao\": \"Sexo do pinguim ('Male', 'Female')\",\n",
    "        \"tipo\": \"qualitativa\",\n",
    "        \"subtipo\": \"nominal\"\n",
    "    }\n",
    "])\n",
    "\n",
    "df_dict"
   ]
  },
  {
   "cell_type": "markdown",
   "metadata": {},
   "source": [
    "## Dados Qualitativos \n"
   ]
  },
  {
   "cell_type": "code",
   "execution_count": 5,
   "metadata": {},
   "outputs": [
    {
     "data": {
      "image/png": "[encoded data removed]",
      "text/plain": [
       "<Figure size 1500x500 with 3 Axes>"
      ]
     },
     "metadata": {},
     "output_type": "display_data"
    }
   ],
   "source": [
    "\n",
    "\n",
    "\n",
    "cor = 'blue'\n",
    "# Criar uma figura com subplots\n",
    "plt.figure(figsize=(15, 5))  # Defina o tamanho da figura\n",
    "\n",
    "# Subplot 1 - Análise das espécies de pinguins\n",
    "plt.subplot(1, 3, 1)  # 1 linha, 3 colunas, primeiro gráfico\n",
    "sns.countplot(data=df_penguins, x=\"species\",color=cor)\n",
    "plt.title('Análise das Espécies de Pinguins')\n",
    "\n",
    "# Subplot 2 - Análise dos pinguins em ilhas\n",
    "plt.subplot(1, 3, 2)  # 1 linha, 3 colunas, segundo gráfico\n",
    "sns.countplot(data=df_penguins, x=\"island\",color=cor)\n",
    "plt.title('Análise dos Pinguins em Ilhas')\n",
    "\n",
    "# Subplot 3 - Análise do sexo dos pinguins\n",
    "plt.subplot(1, 3, 3)  # 1 linha, 3 colunas, terceiro gráfico\n",
    "sns.countplot(data=df_penguins, x=\"sex\",color=cor)\n",
    "plt.title('Análise do Sexo dos Pinguins')\n",
    "\n",
    "# Ajustar o layout para evitar sobreposição de títulos\n",
    "plt.tight_layout()\n",
    "\n",
    "# Exibir os gráficos lado a lado\n",
    "plt.show()\n",
    "\n",
    "\n",
    "\n",
    "\n",
    "\n",
    "\n",
    "\n"
   ]
  },
  {
   "cell_type": "markdown",
   "metadata": {},
   "source": [
    "## Trantando os dados QUANTITATIVOS"
   ]
  },
  {
   "cell_type": "code",
   "execution_count": 6,
   "metadata": {},
   "outputs": [
    {
     "name": "stdout",
     "output_type": "stream",
     "text": [
      "Media: 43.92\n",
      "Mediana: 44.45\n",
      "Moda: 0    41.1\n",
      "dtype: float64\n",
      "Amplitude: 27.5\n",
      "Variância: 29.81\n",
      "Desvio Padrão: 5.46\n"
     ]
    }
   ],
   "source": [
    "print(\"Media:\", df_penguins['bill_length_mm'].mean().round(2))\n",
    "print(\"Mediana:\", df_penguins['bill_length_mm'].median())\n",
    "print(\"Moda:\", df_penguins['bill_length_mm'].mode())\n",
    "print(\"Amplitude:\", df_penguins['bill_length_mm'].max() - df_penguins['bill_length_mm'].min())\n",
    "print(\"Variância:\", df_penguins['bill_length_mm'].var().round(2))\n",
    "print(\"Desvio Padrão:\", df_penguins['bill_length_mm'].std().round(2))\n"
   ]
  },
  {
   "cell_type": "code",
   "execution_count": 7,
   "metadata": {},
   "outputs": [
    {
     "name": "stdout",
     "output_type": "stream",
     "text": [
      "Media: 17.15\n",
      "Mediana: 17.3\n",
      "Moda: 0    17.0\n",
      "dtype: float64\n",
      "Amplitude: 8.4\n",
      "Variância: 3.9\n",
      "Desvio Padrão: 1.97\n"
     ]
    }
   ],
   "source": [
    "print(\"Media:\", df_penguins['bill_depth_mm'].mean().round(2))\n",
    "print(\"Mediana:\", df_penguins['bill_depth_mm'].median())\n",
    "print(\"Moda:\", df_penguins['bill_depth_mm'].mode())\n",
    "print(\"Amplitude:\", df_penguins['bill_depth_mm'].max() - df_penguins['bill_depth_mm'].min())\n",
    "print(\"Variância:\", df_penguins['bill_depth_mm'].var().round(2))\n",
    "print(\"Desvio Padrão:\", df_penguins['bill_depth_mm'].std().round(2))"
   ]
  },
  {
   "cell_type": "code",
   "execution_count": 8,
   "metadata": {},
   "outputs": [
    {
     "name": "stdout",
     "output_type": "stream",
     "text": [
      "Media: 200.92\n",
      "Mediana: 197.0\n",
      "Moda: 0    190.0\n",
      "dtype: float64\n",
      "Amplitude: 59.0\n",
      "Variância: 197.73\n",
      "Desvio Padrão: 14.06\n"
     ]
    }
   ],
   "source": [
    "print(\"Media:\", df_penguins['flipper_length_mm'].mean().round(2))\n",
    "print(\"Mediana:\", df_penguins['flipper_length_mm'].median())\n",
    "print(\"Moda:\", df_penguins['flipper_length_mm'].mode())\n",
    "print(\"Amplitude:\", df_penguins['flipper_length_mm'].max() - df_penguins['flipper_length_mm'].min())\n",
    "print(\"Variância:\", df_penguins['flipper_length_mm'].var().round(2))\n",
    "print(\"Desvio Padrão:\", df_penguins['flipper_length_mm'].std().round(2))"
   ]
  },
  {
   "cell_type": "code",
   "execution_count": 9,
   "metadata": {},
   "outputs": [
    {
     "name": "stdout",
     "output_type": "stream",
     "text": [
      "Media: 4201.75\n",
      "Mediana: 4050.0\n",
      "Moda: 0    3800.0\n",
      "dtype: float64\n",
      "Amplitude: 3600.0\n",
      "Variância: 643131.08\n",
      "Desvio Padrão: 801.95\n"
     ]
    }
   ],
   "source": [
    "print(\"Media:\", df_penguins['body_mass_g'].mean().round(2))\n",
    "print(\"Mediana:\", df_penguins['body_mass_g'].median())\n",
    "print(\"Moda:\", df_penguins['body_mass_g'].mode())\n",
    "print(\"Amplitude:\", df_penguins['body_mass_g'].max() - df_penguins['body_mass_g'].min())\n",
    "print(\"Variância:\", df_penguins['body_mass_g'].var().round(2))\n",
    "print(\"Desvio Padrão:\", df_penguins['body_mass_g'].std().round(2))"
   ]
  }
 ],
 "metadata": {
  "kernelspec": {
   "display_name": "Python 3",
   "language": "python",
   "name": "python3"
  },
  "language_info": {
   "codemirror_mode": {
    "name": "ipython",
    "version": 3
   },
   "file_extension": ".py",
   "mimetype": "text/x-python",
   "name": "python",
   "nbconvert_exporter": "python",
   "pygments_lexer": "ipython3",
   "version": "3.10.6"
  },
  "orig_nbformat": 4
 },
 "nbformat": 4,
 "nbformat_minor": 2
}
